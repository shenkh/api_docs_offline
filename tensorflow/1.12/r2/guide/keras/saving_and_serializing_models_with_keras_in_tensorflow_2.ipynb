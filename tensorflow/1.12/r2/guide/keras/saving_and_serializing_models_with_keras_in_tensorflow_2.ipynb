{
  "nbformat": 4,
  "nbformat_minor": 0,
  "metadata": {
    "colab": {
      "name": "saving_and_serializing_models_with_keras_in_tensorflow_2.ipynb",
      "version": "0.3.2",
      "provenance": [],
      "private_outputs": true,
      "collapsed_sections": [],
      "toc_visible": true
    },
    "kernelspec": {
      "name": "python3",
      "display_name": "Python 3"
    }
  },
  "cells": [
    {
      "metadata": {
        "id": "mHDxn9VHjxKn",
        "colab_type": "text"
      },
      "cell_type": "markdown",
      "source": [
        "##### Copyright 2019 The TensorFlow Authors."
      ]
    },
    {
      "metadata": {
        "id": "3x19oys5j89H",
        "colab_type": "code",
        "colab": {}
      },
      "cell_type": "code",
      "source": [
        "#@title Licensed under the Apache License, Version 2.0 (the \"License\");\n",
        "# you may not use this file except in compliance with the License.\n",
        "# You may obtain a copy of the License at\n",
        "#\n",
        "# https://www.apache.org/licenses/LICENSE-2.0\n",
        "#\n",
        "# Unless required by applicable law or agreed to in writing, software\n",
        "# distributed under the License is distributed on an \"AS IS\" BASIS,\n",
        "# WITHOUT WARRANTIES OR CONDITIONS OF ANY KIND, either express or implied.\n",
        "# See the License for the specific language governing permissions and\n",
        "# limitations under the License."
      ],
      "execution_count": 0,
      "outputs": []
    },
    {
      "metadata": {
        "id": "078z7BuhjyuU",
        "colab_type": "code",
        "colab": {}
      },
      "cell_type": "code",
      "source": [
        "from __future__ import absolute_import, division, print_function\n",
        "\n",
        "!pip install tf-nightly-2.0-preview\n",
        "import tensorflow as tf\n",
        "\n",
        "tf.keras.backend.clear_session()  # For easy reset of notebook state."
      ],
      "execution_count": 0,
      "outputs": []
    },
    {
      "metadata": {
        "id": "hFDUpbtvv_3u",
        "colab_type": "text"
      },
      "cell_type": "markdown",
      "source": [
        "# Guide to saving and Serializing Models with Keras in TensorFlow 2.0"
      ]
    },
    {
      "metadata": {
        "id": "V94_3U2k9rWV",
        "colab_type": "text"
      },
      "cell_type": "markdown",
      "source": [
        "<table class=\"tfo-notebook-buttons\" align=\"left\">\n",
        "  <td>\n",
        "    <a target=\"_blank\" href=\"https://www.tensorflow.org/alpha/guide/keras/saving_and_serializing_models_with_keras_in_tensorflow_2/\"><img src=\"https://www.tensorflow.org/images/tf_logo_32px.png\" />View on TensorFlow.org</a>\n",
        "  </td>\n",
        "  <td>\n",
        "    <a target=\"_blank\" href=\"https://colab.research.google.com/github/tensorflow/docs/blob/master/site/en/guide/keras/saving_and_serializing_models_with_keras_in_tensorflow_2.ipynb\"><img src=\"https://www.tensorflow.org/images/colab_logo_32px.png\" />Run in Google Colab</a>\n",
        "  </td>\n",
        "  <td>\n",
        "    <a target=\"_blank\" href=\"https://github.com/tensorflow/docs/blob/master/site/en/guide/keras/saving_and_serializing_models_with_keras_in_tensorflow_2.ipynb\"><img src=\"https://www.tensorflow.org/images/GitHub-Mark-32px.png\" />View source on GitHub</a>\n",
        "  </td>\n",
        "</table>"
      ]
    },
    {
      "metadata": {
        "id": "ZwiVWAQc9tk7",
        "colab_type": "text"
      },
      "cell_type": "markdown",
      "source": [
        "The first part of this guide covers saving and serialization for Sequential models and models built using the Functional API and for Sequential models. The saving and serialization APIs are the exact same for both of these types of models.\n",
        "\n",
        "Saving for custom subclasses of `Model` is covered in the section \"Saving Subclassed Models\". The APIs in this case are slightly different than for Sequential or Functional models."
      ]
    },
    {
      "metadata": {
        "id": "wwCxkE6RyyPy",
        "colab_type": "text"
      },
      "cell_type": "markdown",
      "source": [
        "## Part I: Saving Sequential models or Functional models\n",
        "\n",
        "Let's consider the following model:"
      ]
    },
    {
      "metadata": {
        "id": "ILmySACTvSA9",
        "colab_type": "code",
        "colab": {}
      },
      "cell_type": "code",
      "source": [
        "from tensorflow import keras\n",
        "from tensorflow.keras import layers\n",
        "\n",
        "inputs = keras.Input(shape=(784,), name='digits')\n",
        "x = layers.Dense(64, activation='relu', name='dense_1')(inputs)\n",
        "x = layers.Dense(64, activation='relu', name='dense_2')(x)\n",
        "outputs = layers.Dense(10, activation='softmax', name='predictions')(x)\n",
        "\n",
        "model = keras.Model(inputs=inputs, outputs=outputs, name='3_layer_mlp')\n",
        "model.summary()"
      ],
      "execution_count": 0,
      "outputs": []
    },
    {
      "metadata": {
        "id": "xPRqbd0yw8hY",
        "colab_type": "text"
      },
      "cell_type": "markdown",
      "source": [
        "Optionally, let's train this model, just so it has weight values to save, as well as an an optimizer state.\n",
        "Of course, you can save models you've never trained, too, but obviously that's less interesting."
      ]
    },
    {
      "metadata": {
        "id": "gCygTeGQw74g",
        "colab_type": "code",
        "colab": {}
      },
      "cell_type": "code",
      "source": [
        "(x_train, y_train), (x_test, y_test) = keras.datasets.mnist.load_data()\n",
        "x_train = x_train.reshape(60000, 784).astype('float32') / 255\n",
        "x_test = x_test.reshape(10000, 784).astype('float32') / 255\n",
        "\n",
        "model.compile(loss='sparse_categorical_crossentropy',\n",
        "              optimizer=keras.optimizers.RMSprop())\n",
        "history = model.fit(x_train, y_train,\n",
        "                    batch_size=64,\n",
        "                    epochs=1)"
      ],
      "execution_count": 0,
      "outputs": []
    },
    {
      "metadata": {
        "id": "htnmbhz-iOwh",
        "colab_type": "code",
        "colab": {}
      },
      "cell_type": "code",
      "source": [
        "# Save predictions for future checks\n",
        "predictions = model.predict(x_test)"
      ],
      "execution_count": 0,
      "outputs": []
    },
    {
      "metadata": {
        "id": "opP1KROHwWwd",
        "colab_type": "text"
      },
      "cell_type": "markdown",
      "source": [
        "\n",
        "### Whole-model saving\n",
        "\n",
        "You can save a model built with the Functional API into a single file. You can later recreate the same model from this file, even if you no longer have access to the code that created the model.\n",
        "\n",
        "This file includes:\n",
        "\n",
        "- The model's architecture\n",
        "- The model's weight values (which were learned during training)\n",
        "- The model's training config (what you passed to `compile`), if any\n",
        "- The optimizer and its state, if any (this enables you to restart training where you left off)"
      ]
    },
    {
      "metadata": {
        "id": "HqHvq6Igw3wx",
        "colab_type": "code",
        "colab": {}
      },
      "cell_type": "code",
      "source": [
        "# Save the model\n",
        "model.save('path_to_my_model.h5')\n",
        "\n",
        "# Recreate the exact same model purely from the file\n",
        "new_model = keras.models.load_model('path_to_my_model.h5')"
      ],
      "execution_count": 0,
      "outputs": []
    },
    {
      "metadata": {
        "id": "mmIcF6UOItJE",
        "colab_type": "code",
        "colab": {}
      },
      "cell_type": "code",
      "source": [
        "import numpy as np\n",
        "\n",
        "# Check that the state is preserved\n",
        "new_predictions = new_model.predict(x_test)\n",
        "np.testing.assert_allclose(predictions, new_predictions, atol=1e-6)\n",
        "\n",
        "# Note that the optimizer state is preserved as well:\n",
        "# you can resume training where you left off."
      ],
      "execution_count": 0,
      "outputs": []
    },
    {
      "metadata": {
        "id": "-WEPW3n8ICyz",
        "colab_type": "text"
      },
      "cell_type": "markdown",
      "source": [
        "### Export to SavedModel\n",
        "\n",
        "You can also export a whole model to the TensorFlow `SavedModel` format. `SavedModel` is a standalone serialization format for Tensorflow objects, supported by TensorFlow serving as well as TensorFlow implementations other than Python."
      ]
    },
    {
      "metadata": {
        "id": "cKASRTKCU5nv",
        "colab_type": "code",
        "colab": {}
      },
      "cell_type": "code",
      "source": [
        "# Export the model to a SavedModel\n",
        "keras.experimental.export_saved_model(model, 'path_to_saved_model')\n",
        "\n",
        "# Recreate the exact same model\n",
        "new_model = keras.experimental.load_from_saved_model('path_to_saved_model')\n",
        "\n",
        "# Check that the state is preserved\n",
        "new_predictions = new_model.predict(x_test)\n",
        "np.testing.assert_allclose(predictions, new_predictions, atol=1e-6)\n",
        "\n",
        "# Note that the optimizer state is preserved as well:\n",
        "# you can resume training where you left off."
      ],
      "execution_count": 0,
      "outputs": []
    },
    {
      "metadata": {
        "id": "4AWgwkKWIhfj",
        "colab_type": "text"
      },
      "cell_type": "markdown",
      "source": [
        "The `SavedModel` files that were created contain:\n",
        "\n",
        "- A TensorFlow checkpoint containing the model weights.\n",
        "- A `SavedModel` proto containing the underlying Tensorflow graph. Separate\n",
        "     graphs are saved for prediction (serving), train, and evaluation. If\n",
        "     the model wasn't compiled before, then only the inference graph\n",
        "     gets exported.\n",
        "- The model's architecture config, if available."
      ]
    },
    {
      "metadata": {
        "id": "GkY8XP_XxgMI",
        "colab_type": "text"
      },
      "cell_type": "markdown",
      "source": [
        "### Architecture-only saving\n",
        "\n",
        "Sometimes, you are only interested in the architecture of the model, and you don't need to save the weight values or the optimizer. In this case, you can retrieve the \"config\" of the model via the `get_config()` method. The config is a Python dict that enables you to recreate the same model -- initialized from scratch, without any of the information learned previously during training."
      ]
    },
    {
      "metadata": {
        "id": "yQGGvo2Fw4o-",
        "colab_type": "code",
        "colab": {}
      },
      "cell_type": "code",
      "source": [
        "config = model.get_config()\n",
        "reinitialized_model = keras.Model.from_config(config)\n",
        "\n",
        "# Note that the model state is not preserved! We only saved the architecture.\n",
        "new_predictions = reinitialized_model.predict(x_test)\n",
        "assert abs(np.sum(predictions - new_predictions)) > 0."
      ],
      "execution_count": 0,
      "outputs": []
    },
    {
      "metadata": {
        "id": "WsNBBvDgxsTS",
        "colab_type": "text"
      },
      "cell_type": "markdown",
      "source": [
        "You can alternatively use `to_json()` from `from_json()`, which uses a JSON string to store the config instead of a Python dict. This is useful to save the config to disk."
      ]
    },
    {
      "metadata": {
        "id": "5a0z7_6XxqWV",
        "colab_type": "code",
        "colab": {}
      },
      "cell_type": "code",
      "source": [
        "json_config = model.to_json()\n",
        "reinitialized_model = keras.models.model_from_json(json_config)"
      ],
      "execution_count": 0,
      "outputs": []
    },
    {
      "metadata": {
        "id": "SGC7R6IIxy0o",
        "colab_type": "text"
      },
      "cell_type": "markdown",
      "source": [
        "### Weights-only saving\n",
        "\n",
        "Sometimes, you are only interested in the state of the model -- its weights values -- and not in the architecture. In this case, you can retrieve the weights values as a list of Numpy arrays via `get_weights()`, and set the state of the model via `set_weights`:"
      ]
    },
    {
      "metadata": {
        "id": "B8tHwEvkxw5E",
        "colab_type": "code",
        "colab": {}
      },
      "cell_type": "code",
      "source": [
        "weights = model.get_weights()  # Retrieves the state of the model.\n",
        "model.set_weights(weights)  # Sets the state of the model."
      ],
      "execution_count": 0,
      "outputs": []
    },
    {
      "metadata": {
        "id": "Ydwtw-u2x7xC",
        "colab_type": "text"
      },
      "cell_type": "markdown",
      "source": [
        "You can combine `get_config()`/`from_config()` and `get_weights()`/`set_weights()` to recreate your model in the same state. However, unlike `model.save()`, this will not include the training config and the optimizer. You would have to call `compile()` again before using the model for training."
      ]
    },
    {
      "metadata": {
        "id": "LWVtuxtrx5lb",
        "colab_type": "code",
        "colab": {}
      },
      "cell_type": "code",
      "source": [
        "config = model.get_config()\n",
        "weights = model.get_weights()\n",
        "\n",
        "new_model = keras.Model.from_config(config)\n",
        "new_model.set_weights(weights)\n",
        "\n",
        "# Check that the state is preserved\n",
        "new_predictions = new_model.predict(x_test)\n",
        "np.testing.assert_allclose(predictions, new_predictions, atol=1e-6)\n",
        "\n",
        "# Note that the optimizer was not preserved,\n",
        "# so the model should be compiled anew before training\n",
        "# (and the optimizer will start from a blank state)."
      ],
      "execution_count": 0,
      "outputs": []
    },
    {
      "metadata": {
        "id": "prk0GzwCyIYy",
        "colab_type": "text"
      },
      "cell_type": "markdown",
      "source": [
        "The save-to-disk alternative to `get_weights()` and `set_weights(weights)`\n",
        "is `save_weights(fpath)` and `load_weights(fpath)`.\n",
        "\n",
        "Here's an example that saves to disk:"
      ]
    },
    {
      "metadata": {
        "id": "2irLnOUbyHlI",
        "colab_type": "code",
        "colab": {}
      },
      "cell_type": "code",
      "source": [
        "# Save JSON config to disk\n",
        "json_config = model.to_json()\n",
        "with open('model_config.json', 'w') as json_file:\n",
        "    json_file.write(json_config)\n",
        "# Save weights to disk\n",
        "model.save_weights('path_to_my_weights.h5')\n",
        "\n",
        "# Reload the model from the 2 files we saved\n",
        "with open('model_config.json') as json_file:\n",
        "    json_config = json_file.read()\n",
        "new_model = keras.models.model_from_json(json_config)\n",
        "new_model.load_weights('path_to_my_weights.h5')\n",
        "\n",
        "# Check that the state is preserved\n",
        "new_predictions = new_model.predict(x_test)\n",
        "np.testing.assert_allclose(predictions, new_predictions, atol=1e-6)\n",
        "\n",
        "# Note that the optimizer was not preserved."
      ],
      "execution_count": 0,
      "outputs": []
    },
    {
      "metadata": {
        "id": "KBxcFAPHyYi5",
        "colab_type": "text"
      },
      "cell_type": "markdown",
      "source": [
        "But remember that the simplest, recommended way is just this:"
      ]
    },
    {
      "metadata": {
        "id": "DE4b3ndNyQh3",
        "colab_type": "code",
        "colab": {}
      },
      "cell_type": "code",
      "source": [
        "model.save('path_to_my_model.h5')\n",
        "del model\n",
        "model = keras.models.load_model('path_to_my_model.h5')"
      ],
      "execution_count": 0,
      "outputs": []
    },
    {
      "metadata": {
        "id": "yKikmbdC3O_i",
        "colab_type": "text"
      },
      "cell_type": "markdown",
      "source": [
        "### Weights-only saving in SavedModel format\n",
        "\n",
        "Note that `save_weights` can create files either in the Keras HDF5 format,\n",
        "or in the TensorFlow SavedModel format. The format is infered from the file extension\n",
        "you provide: if it is \".h5\" or \".keras\", the framework uses the Keras HDF5 format. Anything\n",
        "else defaults to SavedModel."
      ]
    },
    {
      "metadata": {
        "id": "0pYKb6LV3h2l",
        "colab_type": "code",
        "colab": {}
      },
      "cell_type": "code",
      "source": [
        "model.save_weights('path_to_my_tf_savedmodel')"
      ],
      "execution_count": 0,
      "outputs": []
    },
    {
      "metadata": {
        "id": "ZFwKv6JC3kyu",
        "colab_type": "text"
      },
      "cell_type": "markdown",
      "source": [
        "For total explicitness, the format can be explicitly passed via the `save_format` argument, which can take the value \"tf\" or \"h5\":"
      ]
    },
    {
      "metadata": {
        "id": "oN9vOaWU34lA",
        "colab_type": "code",
        "colab": {}
      },
      "cell_type": "code",
      "source": [
        "model.save_weights('path_to_my_tf_savedmodel', save_format='tf')"
      ],
      "execution_count": 0,
      "outputs": []
    },
    {
      "metadata": {
        "id": "xXgtNRCSyuIW",
        "colab_type": "text"
      },
      "cell_type": "markdown",
      "source": [
        "## Saving Subclassed Models"
      ]
    },
    {
      "metadata": {
        "id": "mJqOn0snzCRy",
        "colab_type": "text"
      },
      "cell_type": "markdown",
      "source": [
        "Sequential models and Functional models are datastructures that represent a DAG of layers. As such,\n",
        "they can be safely serialized and deserialized.\n",
        "\n",
        "A subclassed model differs in that it's not a datastructure, it's a piece of code. The architecture of the model\n",
        "is defined via the body of the `call` method. This means that the architecture of the model cannot be safely serialized. To load a model, you'll need to have access to the code that created it (the code of the model subclass). Alternatively, you could be serializing this code as bytecode (e.g. via pickling), but that's unsafe and generally not portable.\n",
        "\n",
        "For more information about these differences, see the article [\"What are Symbolic and Imperative APIs in TensorFlow 2.0?\"](https://medium.com/tensorflow/what-are-symbolic-and-imperative-apis-in-tensorflow-2-0-dfccecb01021)."
      ]
    },
    {
      "metadata": {
        "id": "Pkwyu5dVz12P",
        "colab_type": "text"
      },
      "cell_type": "markdown",
      "source": [
        "Let's consider the following subclassed model, which follows the same structure as the model from the first section:"
      ]
    },
    {
      "metadata": {
        "id": "4Onp-8rGyeQG",
        "colab_type": "code",
        "colab": {}
      },
      "cell_type": "code",
      "source": [
        "class ThreeLayerMLP(keras.Model):\n",
        "  \n",
        "  def __init__(self, name=None):\n",
        "    super(ThreeLayerMLP, self).__init__(name=name)\n",
        "    self.dense_1 = layers.Dense(64, activation='relu', name='dense_1')\n",
        "    self.dense_2 = layers.Dense(64, activation='relu', name='dense_2')\n",
        "    self.pred_layer = layers.Dense(10, activation='softmax', name='predictions')\n",
        "    \n",
        "  def call(self, inputs):\n",
        "    x = self.dense_1(inputs)\n",
        "    x = self.dense_2(x)\n",
        "    return self.pred_layer(x)\n",
        "\n",
        "def get_model():\n",
        "  return ThreeLayerMLP(name='3_layer_mlp')\n",
        "\n",
        "model = get_model()"
      ],
      "execution_count": 0,
      "outputs": []
    },
    {
      "metadata": {
        "id": "wwT_YoKA0yQW",
        "colab_type": "text"
      },
      "cell_type": "markdown",
      "source": [
        "First of all, *a subclassed model that has never been used cannot be saved*.\n",
        "\n",
        "That's because a subclassed model needs to be called on some data in order to create its weights.\n",
        "\n",
        "Until the model has been called, it does not know the shape and dtype of the input data it should be \n",
        "expecting, and thus cannot create its weight variables. You may remember that in the Functional model from the first section, the shape and dtype of the inputs was specified in advance (via `keras.Input(...)`) -- that's why Functional models have a state as soon as they're instantiated.\n",
        "\n",
        "Let's train the model, so as to give it a state:"
      ]
    },
    {
      "metadata": {
        "id": "xqP4kIFN0fTZ",
        "colab_type": "code",
        "colab": {}
      },
      "cell_type": "code",
      "source": [
        "(x_train, y_train), (x_test, y_test) = keras.datasets.mnist.load_data()\n",
        "x_train = x_train.reshape(60000, 784).astype('float32') / 255\n",
        "x_test = x_test.reshape(10000, 784).astype('float32') / 255\n",
        "\n",
        "model.compile(loss='sparse_categorical_crossentropy',\n",
        "              optimizer=keras.optimizers.RMSprop())\n",
        "history = model.fit(x_train, y_train,\n",
        "                    batch_size=64,\n",
        "                    epochs=1)"
      ],
      "execution_count": 0,
      "outputs": []
    },
    {
      "metadata": {
        "id": "rvGCpyX72HOC",
        "colab_type": "text"
      },
      "cell_type": "markdown",
      "source": [
        "The recommended way to save a subclassed model is to use `save_weights` to create a TensorFlow SavedModel checkpoint, which will contain the value of all variables associated with the model:\n",
        "- The layers' weights\n",
        "- The optimizer's state\n",
        "- Any variables associated with stateful model metrics (if any)\n",
        "\n"
      ]
    },
    {
      "metadata": {
        "id": "gMg87Tz01cxQ",
        "colab_type": "code",
        "colab": {}
      },
      "cell_type": "code",
      "source": [
        "model.save_weights('path_to_my_weights', save_format='tf')"
      ],
      "execution_count": 0,
      "outputs": []
    },
    {
      "metadata": {
        "id": "KOKNBojtsl0F",
        "colab_type": "code",
        "colab": {}
      },
      "cell_type": "code",
      "source": [
        "# Save predictions for future checks\n",
        "predictions = model.predict(x_test)\n",
        "# Also save the loss on the first batch\n",
        "# to later assert that the optimizer state was preserved\n",
        "first_batch_loss = model.train_on_batch(x_train[:64], y_train[:64])"
      ],
      "execution_count": 0,
      "outputs": []
    },
    {
      "metadata": {
        "id": "h2PM_PL1SzPo",
        "colab_type": "text"
      },
      "cell_type": "markdown",
      "source": [
        "To restore your model, you will need access to the code that created the model object.\n",
        "\n",
        "Note that in order to restore the optimizer state and the state of any stateful  metric, you should\n",
        "compile the model (with the exact same arguments as before) and call it on some data before calling `load_weights`:"
      ]
    },
    {
      "metadata": {
        "id": "OOSGiSkHTERy",
        "colab_type": "code",
        "colab": {}
      },
      "cell_type": "code",
      "source": [
        "# Recreate the model\n",
        "new_model = get_model()\n",
        "new_model.compile(loss='sparse_categorical_crossentropy',\n",
        "                  optimizer=keras.optimizers.RMSprop())\n",
        "\n",
        "# This initializes the variables used by the optimizers,\n",
        "# as well as any stateful metric variables\n",
        "new_model.train_on_batch(x_train[:1], y_train[:1])\n",
        "\n",
        "# Load the state of the old model\n",
        "new_model.load_weights('path_to_my_weights')\n",
        "\n",
        "# Check that the model state has been preserved\n",
        "new_predictions = new_model.predict(x_test)\n",
        "np.testing.assert_allclose(predictions, new_predictions, atol=1e-6)\n",
        "\n",
        "# The optimizer state is preserved as well,\n",
        "# so you can resume training where you left off\n",
        "new_first_batch_loss = new_model.train_on_batch(x_train[:64], y_train[:64])\n",
        "assert first_batch_loss == new_first_batch_loss"
      ],
      "execution_count": 0,
      "outputs": []
    },
    {
      "metadata": {
        "id": "2_XaE5Oqv7Rh",
        "colab_type": "text"
      },
      "cell_type": "markdown",
      "source": [
        "You've reached the end of this guide! This covers everything you need to know about saving and serializing models with tf.keras in TensorFlow 2.0."
      ]
    }
  ]
}