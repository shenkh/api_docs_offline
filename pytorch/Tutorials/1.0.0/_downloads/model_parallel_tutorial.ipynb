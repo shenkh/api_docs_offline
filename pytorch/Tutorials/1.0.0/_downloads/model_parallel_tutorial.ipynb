{
  "cells": [
    {
      "cell_type": "code",
      "execution_count": null,
      "metadata": {
        "collapsed": false
      },
      "outputs": [],
      "source": [
        "%matplotlib inline"
      ]
    },
    {
      "cell_type": "markdown",
      "metadata": {},
      "source": [
        "\nModel Parallel Best Practices\n*************************************************************\n**Author**: `Shen Li <https://mrshenli.github.io/>`_\n\nData parallel and model parallel are widely-used in distributed training\ntechniques. Previous posts have explained how to use\n`DataParallel <https://pytorch.org/tutorials/beginner/blitz/data_parallel_tutorial.html>`_\nto train a neural network on multiple GPUs. ``DataParallel`` replicates the\nsame model to all GPUs, where each GPU consumes a different partition of the\ninput data. Although it can significantly accelerate the training process, it\ndoes not work for some use cases where the model is too large to fit into a\nsingle GPU. This post shows how to solve that problem by using model parallel\nand also shares some insights on how to speed up model parallel training.\n\nThe high-level idea of model parallel is to place different sub-networks of a\nmodel onto different devices, and implement the ``forward`` method accordingly\nto move intermediate outputs across devices. As only part of a model operates\non any individual device, a set of devices can collectively serve a larger\nmodel. In this post, we will not try to construct huge models and squeeze them\ninto a limited number of GPUs. Instead, this post focuses on showing the idea\nof model parallel. It is up to the readers to apply the ideas to real-world\napplications.\n\n**Recommended Reading:**\n\n-  https://pytorch.org/ For installation instructions\n-  :doc:`/beginner/blitz/data_parallel_tutorial` Single-Machine Data Parallel\n-  :doc:`/intermediate/ddp_tutorial` Combine Distributed Data Parallel and Model Parallel\n\n"
      ]
    },
    {
      "cell_type": "markdown",
      "metadata": {},
      "source": [
        "Basic Usage\n=======================\n\nLet us start with a toy model that contains two linear layers. To run this\nmodel on two GPUs, simply put each linear layer on a different GPU, and move\ninputs and intermediate outputs to match the layer devices accordingly.\n\n"
      ]
    },
    {
      "cell_type": "code",
      "execution_count": null,
      "metadata": {
        "collapsed": false
      },
      "outputs": [],
      "source": [
        "import torch\nimport torch.nn as nn\nimport torch.optim as optim\n\n\nclass ToyModel(nn.Module):\n    def __init__(self):\n        super(ToyModel, self).__init__()\n        self.net1 = torch.nn.Linear(10, 10).to('cuda:0')\n        self.relu = torch.nn.ReLU()\n        self.net2 = torch.nn.Linear(10, 5).to('cuda:1')\n\n    def forward(self, x):\n        x = self.relu(self.net1(x.to('cuda:0')))\n        return self.net2(x.to('cuda:1'))"
      ]
    },
    {
      "cell_type": "markdown",
      "metadata": {},
      "source": [
        "Note that, the above ``ToyModel`` looks very similar to how one would\nimplement it on a single GPU, except the five ``to(device)`` calls which\nplace linear layers and tensors on proper devices. That is the only place in\nthe model that requires changes. The ``backward()`` and ``torch.optim`` will\nautomatically take care of gradients as if the model is on one GPU. You only\nneed to make sure that the labels are on the same device as the outputs when\ncalling the loss function.\n\n"
      ]
    },
    {
      "cell_type": "code",
      "execution_count": null,
      "metadata": {
        "collapsed": false
      },
      "outputs": [],
      "source": [
        "model = ToyModel()\nloss_fn = nn.MSELoss()\noptimizer = optim.SGD(model.parameters(), lr=0.001)\n\noptimizer.zero_grad()\noutputs = model(torch.randn(20, 10))\nlabels = torch.randn(20, 5).to('cuda:1')\nloss_fn(outputs, labels).backward()\noptimizer.step()"
      ]
    },
    {
      "cell_type": "markdown",
      "metadata": {},
      "source": [
        "Apply Model Parallel to Existing Modules\n=======================\n\nIt is also possible to run an existing single-GPU module on multiple GPUs\nwith just a few lines of changes. The code below shows how to decompose\n``torchvision.models.reset50()`` to two GPUs. The idea is to inherit from\nthe existing ``ResNet`` module, and split the layers to two GPUs during\nconstruction. Then, override the ``forward`` method to stitch two\nsub-networks by moving the intermediate outputs accordingly.\n\n"
      ]
    },
    {
      "cell_type": "code",
      "execution_count": null,
      "metadata": {
        "collapsed": false
      },
      "outputs": [],
      "source": [
        "from torchvision.models.resnet import ResNet, Bottleneck\n\nnum_classes = 1000\n\n\nclass ModelParallelResNet50(ResNet):\n    def __init__(self, *args, **kwargs):\n        super(ModelParallelResNet50, self).__init__(\n            Bottleneck, [3, 4, 6, 3], num_classes=num_classes, *args, **kwargs)\n\n        self.seq1 = nn.Sequential(\n            self.conv1,\n            self.bn1,\n            self.relu,\n            self.maxpool,\n\n            self.layer1,\n            self.layer2\n        ).to('cuda:0')\n\n        self.seq2 = nn.Sequential(\n            self.layer3,\n            self.layer4,\n            self.avgpool,\n        ).to('cuda:1')\n\n        self.fc.to('cuda:1')\n\n    def forward(self, x):\n        x = self.seq2(self.seq1(x).to('cuda:1'))\n        return self.fc(x.view(x.size(0), -1))"
      ]
    },
    {
      "cell_type": "markdown",
      "metadata": {},
      "source": [
        "The above implementation solves the problem for cases where the model is too\nlarge to fit into a single GPU. However, you might have already noticed that\nit will be slower than running it on a single GPU if your model fits. It is\nbecause, at any point in time, only one of the two GPUs are working, while\nthe other one is sitting there doing nothing. The performance further\ndeteriorates as the intermediate outputs need to be copied from ``cuda:0`` to\n``cuda:1`` between ``layer2`` and ``layer3``.\n\nLet us run an experiment to get a more quantitative view of the execution\ntime. In this experiment, we train ``ModelParallelResNet50`` and the existing\n``torchvision.models.reset50()`` by running random inputs and labels through\nthem. After the training, the models will not produce any useful predictions,\nbut we can get a reasonable understanding of the execution times.\n\n"
      ]
    },
    {
      "cell_type": "code",
      "execution_count": null,
      "metadata": {
        "collapsed": false
      },
      "outputs": [],
      "source": [
        "import torchvision.models as models\n\nnum_batches = 3\nbatch_size = 120\nimage_w = 128\nimage_h = 128\n\n\ndef train(model):\n    model.train(True)\n    loss_fn = nn.MSELoss()\n    optimizer = optim.SGD(model.parameters(), lr=0.001)\n\n    one_hot_indices = torch.LongTensor(batch_size) \\\n                           .random_(0, num_classes) \\\n                           .view(batch_size, 1)\n\n    for _ in range(num_batches):\n        # generate random inputs and labels\n        inputs = torch.randn(batch_size, 3, image_w, image_h)\n        labels = torch.zeros(batch_size, num_classes) \\\n                      .scatter_(1, one_hot_indices, 1)\n\n        # run forward pass\n        optimizer.zero_grad()\n        outputs = model(inputs.to('cuda:0'))\n\n        # run backward pass\n        labels = labels.to(outputs.device)\n        loss_fn(outputs, labels).backward()\n        optimizer.step()"
      ]
    },
    {
      "cell_type": "markdown",
      "metadata": {},
      "source": [
        "The ``train(model)`` method above uses ``nn.MSELoss`` as the loss function,\nand ``optim.SGD`` as the optimizer. It mimics training on ``128 X 128``\nimages which are organized into 3 batches where each batch contains 120\nimages. Then, we use ``timeit`` to run the ``train(model)`` method 10 times\nand plot the execution times with standard deviations.\n\n"
      ]
    },
    {
      "cell_type": "code",
      "execution_count": null,
      "metadata": {
        "collapsed": false
      },
      "outputs": [],
      "source": [
        "import matplotlib.pyplot as plt\nplt.switch_backend('Agg')\nimport numpy as np\nimport timeit\n\nnum_repeat = 10\n\nstmt = \"train(model)\"\n\nsetup = \"model = ModelParallelResNet50()\"\n# globals arg is only available in Python 3. In Python 2, use the following\n# import __builtin__\n# __builtin__.__dict__.update(locals())\nmp_run_times = timeit.repeat(\n    stmt, setup, number=1, repeat=num_repeat, globals=globals())\nmp_mean, mp_std = np.mean(mp_run_times), np.std(mp_run_times)\n\nsetup = \"import torchvision.models as models;\" + \\\n        \"model = models.resnet50(num_classes=num_classes).to('cuda:0')\"\nrn_run_times = timeit.repeat(\n    stmt, setup, number=1, repeat=num_repeat, globals=globals())\nrn_mean, rn_std = np.mean(rn_run_times), np.std(rn_run_times)\n\n\ndef plot(means, stds, labels, fig_name):\n    fig, ax = plt.subplots()\n    ax.bar(np.arange(len(means)), means, yerr=stds,\n           align='center', alpha=0.5, ecolor='red', capsize=10, width=0.6)\n    ax.set_ylabel('ResNet50 Execution Time (Second)')\n    ax.set_xticks(np.arange(len(means)))\n    ax.set_xticklabels(labels)\n    ax.yaxis.grid(True)\n    plt.tight_layout()\n    plt.savefig(fig_name)\n    plt.close(fig)\n\n\nplot([mp_mean, rn_mean],\n     [mp_std, rn_std],\n     ['Model Parallel', 'Single GPU'],\n     'mp_vs_rn.png')"
      ]
    },
    {
      "cell_type": "markdown",
      "metadata": {},
      "source": [
        ".. figure:: /_static/img/model-parallel-images/mp_vs_rn.png\n   :alt:\n\nThe result shows that the execution time of model parallel implementation is\n``4.02/3.75-1=7%`` longer than the existing single-GPU implementation. So we\ncan conclude there is roughly 7% overhead in copying tensors back and forth\nacross the GPUs. There are rooms for improvements, as we know one of the two\nGPUs is sitting idle throughout the execution. One option is to further\ndivide each batch into a pipeline of splits, such that when one split reaches\nthe second sub-network, the following split can be fed into the first\nsub-network. In this way, two consecutive splits can run concurrently on two\nGPUs.\n\n"
      ]
    },
    {
      "cell_type": "markdown",
      "metadata": {},
      "source": [
        "Speed Up by Pipelining Inputs\n=======================\n\nIn the following experiments, we further divide each 120-image batch into\n20-image splits. As PyTorch launches CUDA operations asynchronizely, the\nimplementation does not need to spawn multiple threads to achieve\nconcurrency.\n\n"
      ]
    },
    {
      "cell_type": "code",
      "execution_count": null,
      "metadata": {
        "collapsed": false
      },
      "outputs": [],
      "source": [
        "class PipelineParallelResNet50(ModelParallelResNet50):\n    def __init__(self, split_size=20, *args, **kwargs):\n        super(PipelineParallelResNet50, self).__init__(*args, **kwargs)\n        self.split_size = split_size\n\n    def forward(self, x):\n        splits = iter(x.split(self.split_size, dim=0))\n        s_next = next(splits)\n        s_prev = self.seq1(s_next).to('cuda:1')\n        ret = []\n\n        for s_next in splits:\n            # A. s_prev runs on cuda:1\n            s_prev = self.seq2(s_prev)\n            ret.append(self.fc(s_prev.view(s_prev.size(0), -1)))\n\n            # B. s_next runs on cuda:0, which can run concurrently with A\n            s_prev = self.seq1(s_next).to('cuda:1')\n\n        s_prev = self.seq2(s_prev)\n        ret.append(self.fc(s_prev.view(s_prev.size(0), -1)))\n\n        return torch.cat(ret)\n\n\nsetup = \"model = PipelineParallelResNet50()\"\npp_run_times = timeit.repeat(\n    stmt, setup, number=1, repeat=num_repeat, globals=globals())\npp_mean, pp_std = np.mean(pp_run_times), np.std(pp_run_times)\n\nplot([mp_mean, rn_mean, pp_mean],\n     [mp_std, rn_std, pp_std],\n     ['Model Parallel', 'Single GPU', 'Pipelining Model Parallel'],\n     'mp_vs_rn_vs_pp.png')"
      ]
    },
    {
      "cell_type": "markdown",
      "metadata": {},
      "source": [
        "Please note, device-to-device tensor copy operations are synchronized on\ncurrent streams on the source and the destination devices. If you create\nmultiple streams, you have to make sure that copy operations are properly\nsynchronized. Writing the source tensor or reading/writing the destination\ntensor before finishing the copy operation can lead to undefined behavior.\nThe above implementation only uses default streams on both source and\ndestination devices, hence it is not necessary to enforce additional\nsynchronizations.\n\n.. figure:: /_static/img/model-parallel-images/mp_vs_rn_vs_pp.png\n   :alt:\n\nThe experiment result shows that, pipelining inputs to model parallel\nResNet50 speeds up the training process by roughly ``3.75/2.51-1=49%``. It is\nstill quite far away from the ideal 100% speedup. As we have introduced a new\nparameter ``split_sizes`` in our pipeline parallel implementation, it is\nunclear how the new parameter affects the overall training time. Intuitively\nspeaking, using small ``split_size`` leads to many tiny CUDA kernel launch,\nwhile using large ``split_size`` results to relatively long idle times during\nthe first and last splits. Neither are optimal. There might be an optimal\n``split_size`` configuration for this specific experiment. Let us try to find\nit by running experiments using several different ``split_size`` values.\n\n"
      ]
    },
    {
      "cell_type": "code",
      "execution_count": null,
      "metadata": {
        "collapsed": false
      },
      "outputs": [],
      "source": [
        "means = []\nstds = []\nsplit_sizes = [1, 3, 5, 8, 10, 12, 20, 40, 60]\n\nfor split_size in split_sizes:\n    setup = \"model = PipelineParallelResNet50(split_size=%d)\" % split_size\n    pp_run_times = timeit.repeat(\n        stmt, setup, number=1, repeat=num_repeat, globals=globals())\n    means.append(np.mean(pp_run_times))\n    stds.append(np.std(pp_run_times))\n\nfig, ax = plt.subplots()\nax.plot(split_sizes, means)\nax.errorbar(split_sizes, means, yerr=stds, ecolor='red', fmt='ro')\nax.set_ylabel('ResNet50 Execution Time (Second)')\nax.set_xlabel('Pipeline Split Size')\nax.set_xticks(split_sizes)\nax.yaxis.grid(True)\nplt.tight_layout()\nplt.savefig(\"split_size_tradeoff.png\")\nplt.close(fig)"
      ]
    },
    {
      "cell_type": "markdown",
      "metadata": {},
      "source": [
        ".. figure:: /_static/img/model-parallel-images/split_size_tradeoff.png\n   :alt:\n\nThe result shows that setting ``split_size`` to 12 achieves the fastest\ntraining speed, which leads to ``3.75/2.43-1=54%`` speedup. There are\nstill opportunities to further accelerate the training process. For example,\nall operations on ``cuda:0`` is placed on its default stream. It means that\ncomputations on the next split cannot overlap with the copy operation of the\nprev split. However, as prev and next splits are different tensors, there is\nno problem to overlap one's computation with the other one's copy. The\nimplementation need to use multiple streams on both GPUs, and different\nsub-network structures require different stream management strategies. As no\ngeneral multi-stream solution works for all model parallel use cases, we will\nnot discuss it in this tutorial.\n\n"
      ]
    }
  ],
  "metadata": {
    "kernelspec": {
      "display_name": "Python 3",
      "language": "python",
      "name": "python3"
    },
    "language_info": {
      "codemirror_mode": {
        "name": "ipython",
        "version": 3
      },
      "file_extension": ".py",
      "mimetype": "text/x-python",
      "name": "python",
      "nbconvert_exporter": "python",
      "pygments_lexer": "ipython3",
      "version": "3.6.4"
    }
  },
  "nbformat": 4,
  "nbformat_minor": 0
}